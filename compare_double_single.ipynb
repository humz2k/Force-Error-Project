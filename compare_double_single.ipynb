{
 "cells": [
  {
   "cell_type": "code",
   "execution_count": 2,
   "metadata": {},
   "outputs": [],
   "source": [
    "import PyCC\n",
    "import numpy as np\n",
    "import matplotlib.pyplot as plt\n",
    "\n",
    "def plot_pretty(dpi=150,fontsize=15):\n",
    "    plt.rcParams['figure.dpi']= dpi\n",
    "    plt.rc(\"savefig\", dpi=dpi)\n",
    "    plt.rc('font', size=fontsize)\n",
    "    plt.rc('xtick', direction='in')\n",
    "    plt.rc('ytick', direction='in')\n",
    "    plt.rc('xtick.major', pad=5)\n",
    "    plt.rc('xtick.minor', pad=5)\n",
    "    plt.rc('ytick.major', pad=5)\n",
    "    plt.rc('ytick.minor', pad=5)\n",
    "    plt.rc('lines', dotted_pattern = [2., 2.])\n",
    "    plt.rc('legend',fontsize=5)\n",
    "    plt.rcParams['figure.figsize'] = [5, 5]"
   ]
  },
  {
   "cell_type": "code",
   "execution_count": 21,
   "metadata": {},
   "outputs": [],
   "source": [
    "r = 100\n",
    "ray_length = r*2\n",
    "p = 0.1\n",
    "ray_steps = 500\n",
    "ns = [100,1000]\n",
    "\n",
    "do_eps = True\n",
    "\n",
    "eps = [0] * len(ns)\n",
    "\n",
    "if do_eps:\n",
    "    vol = (4/3) * np.pi * r**3\n",
    "    for idx,n in enumerate(ns):\n",
    "        part_sep = (vol/n)**(1/3)\n",
    "        eps[idx] = 0.1 * part_sep\n",
    "\n",
    "name = \"Plots/Histograms/Comparisons/Uniform/DOUBLE_ns=\" + str(ns).replace(\" \",\"\").replace(\",\",\"_\") + \"_r=\"+str(r)+\"_p=0,1_eps=\" + str([round(i,2) for i in eps]).replace(\",\",\"_\").replace(\".\",\",\").replace(\" \",\"\")\n",
    "title = \"Double Precision Uniform Distribution, \\n\" + r\"$R=\" + str(r) + r\",\\rho=\" + str(p) + r\"$\""
   ]
  },
  {
   "cell_type": "code",
   "execution_count": 27,
   "metadata": {},
   "outputs": [],
   "source": [
    "data = {}\n",
    "for idx,n in enumerate(ns):\n",
    "    double_xs = []\n",
    "    double_ys = []\n",
    "    double_meta_xs = []\n",
    "    double_meta_ys = []\n",
    "\n",
    "    single_xs = []\n",
    "    single_ys = []\n",
    "    single_meta_xs = []\n",
    "    single_meta_ys = []\n",
    "\n",
    "    rays = []\n",
    "    for vector in PyCC.random_vectors(100):\n",
    "        rays.append(PyCC.ray(vector,ray_length,ray_steps))\n",
    "\n",
    "    for i in range(10):\n",
    "        df = PyCC.Distributions.Uniform(r=r,n=n,p=p)\n",
    "\n",
    "        for ray in rays:\n",
    "            ray_out,stats = PyCC.evaluate(df,evaluate_at=ray,steps=0,precision=\"double\",eval_only=True,eps=eps[idx])\n",
    "            ray_analytics = PyCC.Analytic.Uniform(r=r,p=p,positions=ray)\n",
    "            ray_phis = ray_out.loc[:,\"phi\"].to_numpy()\n",
    "            x = PyCC.points2radius(ray)\n",
    "            y = ray_phis - ray_analytics\n",
    "            double_meta_xs.append(x)\n",
    "            double_meta_ys.append(y)\n",
    "            double_xs += list(x)\n",
    "            double_ys += list(y)\n",
    "\n",
    "            ray_out2,stats = PyCC.evaluate(df,evaluate_at=ray,steps=0,precision=\"single\",eval_only=True,eps=eps[idx])\n",
    "            ray_phis2 = ray_out2.loc[:,\"phi\"].to_numpy()\n",
    "            y = ray_phis2.astype(\"f4\") - ray_analytics\n",
    "            single_meta_xs.append(x)\n",
    "            single_meta_ys.append(y)\n",
    "            single_xs += list(x)\n",
    "            single_ys += list(y)\n",
    "\n",
    "    double_xs = np.array(double_xs)\n",
    "    double_ys = np.array(double_ys)\n",
    "    single_xs = np.array(single_xs)\n",
    "    single_ys = np.array(single_ys)\n",
    "\n",
    "    data[n] = ((double_xs,double_ys,double_meta_xs,double_meta_ys),(single_xs,single_ys,single_meta_xs,single_meta_ys))"
   ]
  },
  {
   "cell_type": "code",
   "execution_count": 28,
   "metadata": {},
   "outputs": [
    {
     "name": "stdout",
     "output_type": "stream",
     "text": [
      "2.4695658696861846e-16\n",
      "2.469565614985963e-16\n",
      "3.9052840764522064e-17\n",
      "3.905283083483776e-17\n"
     ]
    }
   ],
   "source": [
    "for n in ns:\n",
    "    ((double_xs,double_ys,double_meta_xs,double_meta_ys),(single_xs,single_ys,single_meta_xs,single_meta_ys)) = data[n]\n",
    "    print(np.mean(double_ys**2))\n",
    "    print(np.mean(single_ys**2))"
   ]
  },
  {
   "cell_type": "code",
   "execution_count": null,
   "metadata": {},
   "outputs": [],
   "source": []
  }
 ],
 "metadata": {
  "kernelspec": {
   "display_name": "Python 3.9.2 64-bit",
   "language": "python",
   "name": "python3"
  },
  "language_info": {
   "codemirror_mode": {
    "name": "ipython",
    "version": 3
   },
   "file_extension": ".py",
   "mimetype": "text/x-python",
   "name": "python",
   "nbconvert_exporter": "python",
   "pygments_lexer": "ipython3",
   "version": "3.9.2"
  },
  "orig_nbformat": 4,
  "vscode": {
   "interpreter": {
    "hash": "aee8b7b246df8f9039afb4144a1f6fd8d2ca17a180786b69acc140d282b71a49"
   }
  }
 },
 "nbformat": 4,
 "nbformat_minor": 2
}
