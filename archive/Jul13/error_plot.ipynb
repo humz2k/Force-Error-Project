{
 "cells": [
  {
   "cell_type": "code",
   "execution_count": 8,
   "metadata": {},
   "outputs": [
    {
     "name": "stdout",
     "output_type": "stream",
     "text": [
      "2\n",
      "8\n",
      "32\n",
      "128\n",
      "512\n",
      "2048\n",
      "8192\n",
      "32768\n"
     ]
    }
   ],
   "source": [
    "import PyCC\n",
    "import numpy as np\n",
    "import pandas as pd\n",
    "import matplotlib.pyplot as plt\n",
    "\n",
    "def get_errors(thetas,r,n,p,repeats = 2):\n",
    "    outs = np.zeros((len(thetas),6*repeats),dtype=float)\n",
    "    for repeat in range(repeats):\n",
    "        for idx,theta in enumerate(thetas):\n",
    "            distribution = PyCC.Distributions.Uniform(r=r,n=n,p=p)\n",
    "            dist = r/np.tan(theta/2)\n",
    "            pos = pd.DataFrame(np.array([[dist,0,0],[-dist,0,0],[0,dist,0],[0,-dist,0],[0,0,dist],[0,0,-dist]]),columns=[\"x\",\"y\",\"z\"])\n",
    "            direct,stats = PyCC.evaluate(df=distribution,evaluate_at=pos,save=False,algo=\"directsum\",accelerate=False,eval_type=\"phi\")\n",
    "            direct = direct.loc[:,\"phi\"].to_numpy()\n",
    "            tree,stats = PyCC.evaluate(df=distribution,evaluate_at=pos,save=False,algo=\"treecode\",theta=1,eval_type=\"phi\")\n",
    "            tree = tree.loc[:,\"phi\"].to_numpy()\n",
    "            frac = np.abs(direct-tree)/np.abs(tree)\n",
    "            offset = repeat * 6\n",
    "            for i in range(6):\n",
    "                outs[idx][i+offset] = frac[i]\n",
    "    return outs\n",
    "\n",
    "thetas = [1,2/3,1/2]\n",
    "r = 10\n",
    "p = 100\n",
    "ns = [2,8,32,128,512,2048,8192,32768]\n",
    "colors = [\"red\",\"green\",\"blue\"]\n",
    "means = np.zeros((len(ns),len(thetas)),dtype=float)\n",
    "medians = np.zeros((len(ns),len(thetas)),dtype=float)\n",
    "for idx,n in enumerate(ns):\n",
    "    print(n)\n",
    "    out = get_errors(thetas=thetas,r=r,n=n,p=p,repeats=10)\n",
    "    means[idx] = np.mean(out,axis=1)\n",
    "    medians[idx] = np.median(out,axis=1)"
   ]
  },
  {
   "cell_type": "code",
   "execution_count": 9,
   "metadata": {},
   "outputs": [
    {
     "data": {
      "image/png": "[encoded data removed]",
      "text/plain": [
       "<Figure size 432x288 with 1 Axes>"
      ]
     },
     "metadata": {
      "needs_background": "light"
     },
     "output_type": "display_data"
    }
   ],
   "source": [
    "def plot_pretty(dpi=150,fontsize=15):\n",
    "    plt.rcParams['figure.dpi']= dpi\n",
    "    plt.rc(\"savefig\", dpi=dpi)\n",
    "    plt.rc('font', size=fontsize)\n",
    "    plt.rc('xtick', direction='in',top=True)\n",
    "    plt.rc('ytick', direction='in',right=True)\n",
    "    plt.rc('xtick.major', pad=5, size=10)\n",
    "    plt.rc('xtick.minor', pad=5, size= 5)\n",
    "    plt.rc('ytick.major', pad=5, size=10)\n",
    "    plt.rc('ytick.minor', pad=5, size = 5)\n",
    "    plt.rc('lines', dotted_pattern = [2., 2.])\n",
    "    plt.rc('legend',fontsize=5)\n",
    "    plt.rcParams['figure.figsize'] = [6, 4]\n",
    "\n",
    "plot_pretty()\n",
    "\n",
    "for i in range(3):\n",
    "    plt.scatter([0],[0],c=colors[i],label=r\"$\\theta = \" + str(round(thetas[i],2)) + r\"$\")\n",
    "plt.scatter([0],[0],c=\"black\",label=\"mean\",marker=\"x\")\n",
    "plt.scatter([0],[0],c=\"black\",label=\"median\",marker=\"2\")\n",
    "for idx,theta in enumerate(thetas):\n",
    "    plt.scatter(ns,means[:,idx],c=colors[idx],marker=\"x\")\n",
    "for idx,theta in enumerate(thetas):\n",
    "    plt.scatter(ns,medians[:,idx],c=colors[idx],marker=\"2\")\n",
    "plt.xscale('log')\n",
    "plt.yscale('log')\n",
    "#plt.yticks([.03,.01,.003,.001,.0003],[.03,.01,.003,.001,.0003])\n",
    "plt.xticks([1,10,100,1000,10000],[1,10,100,1000,10000])\n",
    "plt.title(\"homogeneous\")\n",
    "plt.xlabel(\"number of particles\")\n",
    "plt.ylabel(\"relative error in potential\")\n",
    "plt.legend(fontsize=5,loc=\"upper right\")\n",
    "#plt.savefig(\"Barnes Hut Plot.jpg\")\n",
    "plt.show()"
   ]
  }
 ],
 "metadata": {
  "kernelspec": {
   "display_name": "Python 3.9.2 64-bit",
   "language": "python",
   "name": "python3"
  },
  "language_info": {
   "codemirror_mode": {
    "name": "ipython",
    "version": 3
   },
   "file_extension": ".py",
   "mimetype": "text/x-python",
   "name": "python",
   "nbconvert_exporter": "python",
   "pygments_lexer": "ipython3",
   "version": "3.9.2"
  },
  "orig_nbformat": 4,
  "vscode": {
   "interpreter": {
    "hash": "aee8b7b246df8f9039afb4144a1f6fd8d2ca17a180786b69acc140d282b71a49"
   }
  }
 },
 "nbformat": 4,
 "nbformat_minor": 2
}
