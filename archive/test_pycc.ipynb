{
 "cells": [
  {
   "cell_type": "code",
   "execution_count": 1,
   "metadata": {},
   "outputs": [],
   "source": [
    "import PyCC\n",
    "import numpy as np\n",
    "import pandas as pd\n",
    "import matplotlib.pyplot as plt\n",
    "\n",
    "def plot_pretty(dpi=150,fontsize=15):\n",
    "    plt.rcParams['figure.dpi']= dpi\n",
    "    plt.rc(\"savefig\", dpi=dpi)\n",
    "    plt.rc('font', size=fontsize)\n",
    "    plt.rc('xtick', direction='in')\n",
    "    plt.rc('ytick', direction='in')\n",
    "    plt.rc('xtick.major', pad=5)\n",
    "    plt.rc('xtick.minor', pad=5)\n",
    "    plt.rc('ytick.major', pad=5)\n",
    "    plt.rc('ytick.minor', pad=5)\n",
    "    plt.rc('lines', dotted_pattern = [2., 2.])\n",
    "    plt.rc('legend',fontsize=5)\n",
    "    plt.rcParams['figure.figsize'] = [6, 4]\n",
    "\n",
    "plot_pretty()"
   ]
  },
  {
   "cell_type": "code",
   "execution_count": 48,
   "metadata": {},
   "outputs": [],
   "source": [
    "Rvir = 4.629e+21\n",
    "c = 15\n",
    "p0 = 1e-21\n",
    "n_parts = 1000"
   ]
  },
  {
   "cell_type": "code",
   "execution_count": 49,
   "metadata": {},
   "outputs": [
    {
     "name": "stdout",
     "output_type": "stream",
     "text": [
      "6.777268557379879e+41\n"
     ]
    }
   ],
   "source": [
    "test_dist = PyCC.Distributions.NFW(Rvir=Rvir,c=c,p0=p0,n=n_parts)\n",
    "print(np.sum(test_dist.loc[:,\"mass\"].to_numpy()))\n",
    "vectors = PyCC.random_vectors(10)\n",
    "xs = []\n",
    "ys = []"
   ]
  },
  {
   "cell_type": "code",
   "execution_count": 50,
   "metadata": {},
   "outputs": [],
   "source": [
    "for vec in vectors:\n",
    "    ray = PyCC.ray(vec,Rvir*2,25)\n",
    "    out,stats = PyCC.evaluate(df=test_dist,evaluate_at=ray,save=False,algo=\"directsum\",eval_type=\"phi\")\n",
    "    phis = out.loc[:,\"phi\"].to_numpy()\n",
    "    positions = out.loc[:,[\"x\",\"y\",\"z\"]]\n",
    "    rs = PyCC.points2radius(positions)\n",
    "    xs.append(rs)\n",
    "    ys.append(phis)"
   ]
  },
  {
   "cell_type": "code",
   "execution_count": 51,
   "metadata": {},
   "outputs": [],
   "source": [
    "ana_ray = PyCC.ray(np.array([1,0,0]),Rvir*2,100)\n",
    "ana_rs = PyCC.points2radius(ana_ray)\n",
    "analytics = PyCC.Analytic.NFW(Rvir=Rvir,c=c,p0=p0,positions=ana_ray)"
   ]
  },
  {
   "cell_type": "code",
   "execution_count": 52,
   "metadata": {},
   "outputs": [
    {
     "data": {
      "image/png": "[encoded data removed]",
      "text/plain": [
       "<Figure size 432x288 with 1 Axes>"
      ]
     },
     "metadata": {
      "needs_background": "light"
     },
     "output_type": "display_data"
    }
   ],
   "source": [
    "for x,y in zip(xs,ys):\n",
    "    plt.scatter(x/Rvir,y,zorder=0,s=10)\n",
    "plt.plot(ana_rs/Rvir,analytics,color=\"red\",zorder=1,label=\"Analytic\")\n",
    "plt.ticklabel_format(style='sci', axis='x', scilimits=(0,0))\n",
    "plt.ticklabel_format(style='sci', axis='y', scilimits=(0,0))\n",
    "plt.ylabel(r\"$\\phi$\")\n",
    "plt.xlabel(r\"$\\frac{r}{R_{vir}}$\")\n",
    "plt.title(\"NFW: \" + r\"$R_{vir}=\" + str(Rvir) + r\",c=\" + str(c) + r\",p_0=\" + str(p0) + r\",n=\" + str(n_parts) + r\"$\",pad=20)\n",
    "plt.legend()\n",
    "plt.tight_layout()\n",
    "plt.savefig(\"NFW Plot2.jpg\")\n",
    "plt.show()"
   ]
  },
  {
   "cell_type": "code",
   "execution_count": null,
   "metadata": {},
   "outputs": [],
   "source": []
  },
  {
   "cell_type": "code",
   "execution_count": null,
   "metadata": {},
   "outputs": [],
   "source": []
  }
 ],
 "metadata": {
  "kernelspec": {
   "display_name": "Python 3.9.2 64-bit",
   "language": "python",
   "name": "python3"
  },
  "language_info": {
   "codemirror_mode": {
    "name": "ipython",
    "version": 3
   },
   "file_extension": ".py",
   "mimetype": "text/x-python",
   "name": "python",
   "nbconvert_exporter": "python",
   "pygments_lexer": "ipython3",
   "version": "3.9.2"
  },
  "orig_nbformat": 4,
  "vscode": {
   "interpreter": {
    "hash": "aee8b7b246df8f9039afb4144a1f6fd8d2ca17a180786b69acc140d282b71a49"
   }
  }
 },
 "nbformat": 4,
 "nbformat_minor": 2
}
