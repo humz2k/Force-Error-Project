{
 "cells": [
  {
   "cell_type": "code",
   "execution_count": null,
   "metadata": {},
   "outputs": [],
   "source": [
    "import PyCC\n",
    "import numpy as np\n",
    "import matplotlib.pyplot as plt\n",
    "\n",
    "def plot_pretty(dpi=150,fontsize=15):\n",
    "    plt.rcParams['figure.dpi']= dpi\n",
    "    plt.rc(\"savefig\", dpi=dpi)\n",
    "    plt.rc('font', size=fontsize)\n",
    "    plt.rc('xtick', direction='in')\n",
    "    plt.rc('ytick', direction='in')\n",
    "    plt.rc('xtick.major', pad=5)\n",
    "    plt.rc('xtick.minor', pad=5)\n",
    "    plt.rc('ytick.major', pad=5)\n",
    "    plt.rc('ytick.minor', pad=5)\n",
    "    plt.rc('lines', dotted_pattern = [2., 2.])\n",
    "    plt.rc('legend',fontsize=5)\n",
    "    plt.rcParams['figure.figsize'] = [5, 5]"
   ]
  },
  {
   "cell_type": "code",
   "execution_count": null,
   "metadata": {},
   "outputs": [],
   "source": [
    "r = 100\n",
    "ray_length = r*2\n",
    "p = 0.1\n",
    "ray_steps = 500\n",
    "ns = []\n",
    "temp = 2048\n",
    "for i in range(6):\n",
    "    ns.append(temp)\n",
    "    temp *= 2\n",
    "\n",
    "do_eps = True\n",
    "\n",
    "eps = [0] * len(ns)\n",
    "\n",
    "if do_eps:\n",
    "    vol = (4/3) * np.pi * r**3\n",
    "    for idx,n in enumerate(ns):\n",
    "        part_sep = (vol/n)**(1/3)\n",
    "        eps[idx] = 0.1 * part_sep\n",
    "\n",
    "name = \"Plots/Histograms/Comparisons/Uniform/DOUBLE_ns=\" + str(ns).replace(\" \",\"\").replace(\",\",\"_\") + \"_r=\"+str(r)+\"_p=0,1_eps=\" + str([round(i,2) for i in eps]).replace(\",\",\"_\").replace(\".\",\",\").replace(\" \",\"\")\n",
    "title = \"Double Precision Uniform Distribution, \\n\" + r\"$R=\" + str(r) + r\",\\rho=\" + str(p) + r\"$\""
   ]
  },
  {
   "cell_type": "code",
   "execution_count": null,
   "metadata": {},
   "outputs": [],
   "source": [
    "data = {}\n",
    "n_rays = 20\n",
    "n_gens = 1\n",
    "\n",
    "total_rays = n_rays * n_gens\n",
    "\n",
    "data = {}\n",
    "\n",
    "for idx,n in enumerate(ns):\n",
    "    print(n)\n",
    "    rays = []\n",
    "    for vector in PyCC.random_vectors(n_rays):\n",
    "        rays.append(PyCC.ray(vector,ray_length,ray_steps))\n",
    "    count = 0\n",
    "    data[n] = {}\n",
    "    data[n][\"double\"] = np.zeros((total_rays,ray_steps),dtype=np.float64)\n",
    "    data[n][\"single\"] = np.zeros((total_rays,ray_steps),dtype=np.float32)\n",
    "\n",
    "    for i in range(n_gens):\n",
    "        df = PyCC.Distributions.Uniform(r=r,n=n,p=p)\n",
    "\n",
    "        for ray in rays:\n",
    "            ray_out,stats = PyCC.evaluate(df,steps=0,precision=\"double\",eps=eps[idx],steps=1,dt=)\n",
    "            ray_phis = ray_out.loc[:,\"phi\"].to_numpy()\n",
    "\n",
    "            ray_out2,stats = PyCC.evaluate(df,steps=0,precision=\"single\",eps=eps[idx],steps=1)\n",
    "            ray_phis2 = ray_out2.loc[:,\"phi\"].to_numpy().astype(\"f4\")\n",
    "    \n",
    "            data[n][\"double\"][count] = ray_phis\n",
    "            data[n][\"single\"][count] = ray_phis2\n",
    "\n",
    "            count += 1\n",
    "\n",
    "ray_analytics = PyCC.Analytic.Uniform(r=r,p=p,positions=rays[0])"
   ]
  }
 ],
 "metadata": {
  "kernelspec": {
   "display_name": "Python 3.9.2 64-bit",
   "language": "python",
   "name": "python3"
  },
  "language_info": {
   "name": "python",
   "version": "3.9.2"
  },
  "orig_nbformat": 4,
  "vscode": {
   "interpreter": {
    "hash": "aee8b7b246df8f9039afb4144a1f6fd8d2ca17a180786b69acc140d282b71a49"
   }
  }
 },
 "nbformat": 4,
 "nbformat_minor": 2
}
