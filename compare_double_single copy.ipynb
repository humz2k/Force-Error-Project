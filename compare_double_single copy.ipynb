{
 "cells": [
  {
   "cell_type": "code",
   "execution_count": 1,
   "metadata": {},
   "outputs": [],
   "source": [
    "import PyCC\n",
    "import numpy as np\n",
    "import matplotlib.pyplot as plt\n",
    "\n",
    "def plot_pretty(dpi=150,fontsize=15):\n",
    "    plt.rcParams['figure.dpi']= dpi\n",
    "    plt.rc(\"savefig\", dpi=dpi)\n",
    "    plt.rc('font', size=fontsize)\n",
    "    plt.rc('xtick', direction='in')\n",
    "    plt.rc('ytick', direction='in')\n",
    "    plt.rc('xtick.major', pad=5)\n",
    "    plt.rc('xtick.minor', pad=5)\n",
    "    plt.rc('ytick.major', pad=5)\n",
    "    plt.rc('ytick.minor', pad=5)\n",
    "    plt.rc('lines', dotted_pattern = [2., 2.])\n",
    "    plt.rc('legend',fontsize=5)\n",
    "    plt.rcParams['figure.figsize'] = [5, 5]"
   ]
  },
  {
   "cell_type": "code",
   "execution_count": 63,
   "metadata": {},
   "outputs": [],
   "source": [
    "r = 100\n",
    "ray_length = r*2\n",
    "p = 0.1\n",
    "ray_steps = 500\n",
    "ns = []\n",
    "temp = 2048\n",
    "for i in range(6):\n",
    "    ns.append(temp)\n",
    "    temp *= 2\n",
    "\n",
    "do_eps = True\n",
    "\n",
    "eps = [0] * len(ns)\n",
    "\n",
    "if do_eps:\n",
    "    vol = (4/3) * np.pi * r**3\n",
    "    for idx,n in enumerate(ns):\n",
    "        part_sep = (vol/n)**(1/3)\n",
    "        eps[idx] = 0.1 * part_sep\n",
    "\n",
    "name = \"Plots/Histograms/Comparisons/Uniform/DOUBLE_ns=\" + str(ns).replace(\" \",\"\").replace(\",\",\"_\") + \"_r=\"+str(r)+\"_p=0,1_eps=\" + str([round(i,2) for i in eps]).replace(\",\",\"_\").replace(\".\",\",\").replace(\" \",\"\")\n",
    "title = \"Double Precision Uniform Distribution, \\n\" + r\"$R=\" + str(r) + r\",\\rho=\" + str(p) + r\"$\""
   ]
  },
  {
   "cell_type": "code",
   "execution_count": 64,
   "metadata": {},
   "outputs": [
    {
     "name": "stdout",
     "output_type": "stream",
     "text": [
      "2048\n",
      "4096\n",
      "8192\n",
      "16384\n",
      "32768\n",
      "65536\n"
     ]
    }
   ],
   "source": [
    "data = {}\n",
    "n_rays = 20\n",
    "n_gens = 1\n",
    "\n",
    "total_rays = n_rays * n_gens\n",
    "\n",
    "data = {}\n",
    "\n",
    "for idx,n in enumerate(ns):\n",
    "    print(n)\n",
    "    rays = []\n",
    "    for vector in PyCC.random_vectors(n_rays):\n",
    "        rays.append(PyCC.ray(vector,ray_length,ray_steps))\n",
    "    count = 0\n",
    "    data[n] = {}\n",
    "    data[n][\"double\"] = np.zeros((total_rays,ray_steps),dtype=np.float64)\n",
    "    data[n][\"single\"] = np.zeros((total_rays,ray_steps),dtype=np.float32)\n",
    "\n",
    "    for i in range(n_gens):\n",
    "        df = PyCC.Distributions.Uniform(r=r,n=n,p=p)\n",
    "\n",
    "        for ray in rays:\n",
    "            ray_out,stats = PyCC.evaluate(df,evaluate_at=ray,steps=0,precision=\"double\",eval_only=True,eps=eps[idx])\n",
    "            ray_phis = ray_out.loc[:,\"phi\"].to_numpy()\n",
    "\n",
    "            ray_out2,stats = PyCC.evaluate(df,evaluate_at=ray,steps=0,precision=\"single\",eval_only=True,eps=eps[idx])\n",
    "            ray_phis2 = ray_out2.loc[:,\"phi\"].to_numpy().astype(\"f4\")\n",
    "    \n",
    "            data[n][\"double\"][count] = ray_phis\n",
    "            data[n][\"single\"][count] = ray_phis2\n",
    "\n",
    "            count += 1\n",
    "\n",
    "ray_analytics = PyCC.Analytic.Uniform(r=r,p=p,positions=rays[0])"
   ]
  },
  {
   "cell_type": "code",
   "execution_count": 65,
   "metadata": {},
   "outputs": [],
   "source": [
    "plot_pretty()"
   ]
  },
  {
   "cell_type": "code",
   "execution_count": 69,
   "metadata": {},
   "outputs": [
    {
     "name": "stdout",
     "output_type": "stream",
     "text": [
      "[8.99004708063082e-14, 8.99004708063082e-14, 8.99004708063082e-14, 8.99004708063082e-14, 8.99004708063082e-14, 8.99004708063082e-14]\n"
     ]
    },
    {
     "data": {
      "image/png": "[encoded data removed]",
      "text/plain": [
       "<Figure size 750x750 with 1 Axes>"
      ]
     },
     "metadata": {
      "needs_background": "light"
     },
     "output_type": "display_data"
    }
   ],
   "source": [
    "from_errors_double = []\n",
    "from_errors_single = []\n",
    "from_relaxations = []\n",
    "for n in ns:\n",
    "    from_error_double = data[n][\"double\"] - ray_analytics\n",
    "    from_errors_double.append(np.mean(from_error_double**2))\n",
    "\n",
    "    from_error_single = data[n][\"single\"] - ray_analytics\n",
    "    from_errors_single.append(np.mean(from_error_single**2))\n",
    "\n",
    "    from_relaxation = ray_analytics\n",
    "    from_relaxations.append(np.mean(from_relaxation**2))\n",
    "\n",
    "plt.plot([1000,ns[-1]],from_relaxations[:2],linewidth=1,label=r\"$\\phi_{analytic}$\",color=\"g\")\n",
    "print(from_relaxations)\n",
    "\n",
    "plt.scatter(ns,from_errors_double,label=r\"$\\phi_{err}$, double precision\",s=20,zorder=0,facecolors='none', edgecolors='r')\n",
    "plt.scatter(ns,from_errors_single,label=r\"$\\phi_{err}$, single precision\",s=20,marker=\"1\",zorder=1)\n",
    "\n",
    "plt.yscale('log')\n",
    "plt.xscale('log')\n",
    "plt.ylabel(r\"$\\phi$\")\n",
    "plt.xlabel(r\"$n$\")\n",
    "plt.xticks([1000,10000,100000])\n",
    "plt.legend()\n",
    "plt.tight_layout()\n",
    "plt.show()"
   ]
  },
  {
   "cell_type": "code",
   "execution_count": null,
   "metadata": {},
   "outputs": [],
   "source": []
  }
 ],
 "metadata": {
  "kernelspec": {
   "display_name": "Python 3.9.2 64-bit",
   "language": "python",
   "name": "python3"
  },
  "language_info": {
   "codemirror_mode": {
    "name": "ipython",
    "version": 3
   },
   "file_extension": ".py",
   "mimetype": "text/x-python",
   "name": "python",
   "nbconvert_exporter": "python",
   "pygments_lexer": "ipython3",
   "version": "3.9.2"
  },
  "orig_nbformat": 4,
  "vscode": {
   "interpreter": {
    "hash": "aee8b7b246df8f9039afb4144a1f6fd8d2ca17a180786b69acc140d282b71a49"
   }
  }
 },
 "nbformat": 4,
 "nbformat_minor": 2
}
