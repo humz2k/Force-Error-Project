{
 "cells": [
  {
   "cell_type": "code",
   "execution_count": 31,
   "metadata": {},
   "outputs": [],
   "source": [
    "import numpy as np\n",
    "import matplotlib.pyplot as plt"
   ]
  },
  {
   "cell_type": "code",
   "execution_count": 32,
   "metadata": {},
   "outputs": [],
   "source": [
    "def density(r,Rs,p0):\n",
    "    return p0/((r/Rs)*((1+(r/Rs))**2))"
   ]
  },
  {
   "cell_type": "code",
   "execution_count": 34,
   "metadata": {},
   "outputs": [],
   "source": [
    "def plot(Rs,c):\n",
    "    Rvir = c*Rs\n",
    "    xs = np.linspace(0,Rvir,10000)[1:]\n",
    "    ys = density(xs,Rs)\n",
    "    plt.plot(xs/Rs,ys)\n",
    "    plt.xscale('log')\n",
    "    plt.yscale('log')\n",
    "    plt.show()"
   ]
  },
  {
   "cell_type": "code",
   "execution_count": 49,
   "metadata": {},
   "outputs": [
    {
     "name": "stdout",
     "output_type": "stream",
     "text": [
      "0.25\n"
     ]
    }
   ],
   "source": [
    "def prob(r,Rvir,c):\n",
    "    Rs = Rvir/c\n",
    "    print(density(r,Rs))"
   ]
  },
  {
   "cell_type": "code",
   "execution_count": 63,
   "metadata": {},
   "outputs": [],
   "source": [
    "def massDist(Rmax,Rvir,c):\n",
    "    Rs = Rvir/c\n",
    "    max_mass = 4*np.pi*(Rs**3)*((np.log((Rs+Rvir)/Rs))+(Rs/(Rs+Rvir))-1)\n",
    "    return (4*np.pi*(Rs**3)*((np.log((Rs+Rmax)/Rs))+(Rs/(Rs+Rmax))-1))/max_mass"
   ]
  },
  {
   "cell_type": "code",
   "execution_count": 136,
   "metadata": {},
   "outputs": [
    {
     "data": {
      "image/png": "[encoded data removed]",
      "text/plain": [
       "<Figure size 432x288 with 1 Axes>"
      ]
     },
     "metadata": {
      "needs_background": "light"
     },
     "output_type": "display_data"
    }
   ],
   "source": [
    "def sampleRadius(Rvir,c,nBins,nParticles):\n",
    "    radiuses = np.linspace(0,Rvir,nBins)\n",
    "    low = massDist(radiuses[:-1],Rvir,c)\n",
    "    high = massDist(radiuses[1:],Rvir,c)\n",
    "    dists = high-low\n",
    "    mul = (1/np.min(dists))\n",
    "    nRadiuses = np.round(dists * mul).astype(int)\n",
    "    delta = radiuses[1]\n",
    "    rSamples = []\n",
    "    for n,low in zip(nRadiuses,radiuses[:-1]):\n",
    "        rSamples += list(np.random.random(n)*delta+low)\n",
    "    rSamples = np.array(rSamples)\n",
    "    return np.random.choice(rSamples,size=nParticles,replace=False)"
   ]
  },
  {
   "cell_type": "code",
   "execution_count": 146,
   "metadata": {},
   "outputs": [
    {
     "data": {
      "image/png": "[encoded data removed]",
      "text/plain": [
       "<Figure size 432x288 with 1 Axes>"
      ]
     },
     "metadata": {
      "needs_background": "light"
     },
     "output_type": "display_data"
    }
   ],
   "source": [
    "n = 100\n",
    "c = 100\n",
    "xs = np.linspace(0,100)\n",
    "ys = massDist(xs,100,c) * n\n",
    "plt.plot(xs,ys,color=\"red\",zorder=1)\n",
    "plt.hist(sampleRadius(100,c,10000,n),bins=1000,cumulative=True,zorder=0)\n",
    "plt.show()"
   ]
  },
  {
   "cell_type": "code",
   "execution_count": 150,
   "metadata": {},
   "outputs": [
    {
     "name": "stdout",
     "output_type": "stream",
     "text": [
      "1.0\n"
     ]
    }
   ],
   "source": [
    "def massDist(Rmax,Rvir,c):\n",
    "    Rs = Rvir/c\n",
    "    max_mass = 4*np.pi*(Rs**3)*((np.log(1+c))-(c/(1+c)))\n",
    "    return (4*np.pi*(Rs**3)*((np.log((Rs+Rmax)/Rs))+(Rs/(Rs+Rmax))-1))/max_mass"
   ]
  },
  {
   "cell_type": "code",
   "execution_count": null,
   "metadata": {},
   "outputs": [],
   "source": []
  }
 ],
 "metadata": {
  "kernelspec": {
   "display_name": "Python 3.9.2 64-bit",
   "language": "python",
   "name": "python3"
  },
  "language_info": {
   "codemirror_mode": {
    "name": "ipython",
    "version": 3
   },
   "file_extension": ".py",
   "mimetype": "text/x-python",
   "name": "python",
   "nbconvert_exporter": "python",
   "pygments_lexer": "ipython3",
   "version": "3.9.2"
  },
  "orig_nbformat": 4,
  "vscode": {
   "interpreter": {
    "hash": "aee8b7b246df8f9039afb4144a1f6fd8d2ca17a180786b69acc140d282b71a49"
   }
  }
 },
 "nbformat": 4,
 "nbformat_minor": 2
}
